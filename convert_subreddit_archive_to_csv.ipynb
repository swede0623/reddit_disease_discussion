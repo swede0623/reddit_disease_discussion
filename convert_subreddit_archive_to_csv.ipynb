{
 "cells": [
  {
   "cell_type": "code",
   "execution_count": 4,
   "metadata": {},
   "outputs": [],
   "source": [
    "import pandas as pd\n",
    "import json\n",
    "\n",
    "import os\n",
    "import sys\n",
    "module_path = os.path.abspath(os.path.join('..'))\n",
    "if module_path not in sys.path:\n",
    "    sys.path.append(module_path)\n",
    "    \n",
    "# zreader is a class to help decrompess .zst files and then turn the ndjson into just json which is much easier to work with\n",
    "# https://github.com/pushshift/zreader\n",
    "from Functions.zreader import *"
   ]
  },
  {
   "cell_type": "markdown",
   "metadata": {},
   "source": [
    "- ndjson has to be read one line at a time. so I chose to store the information we want from the file into a dictionary which will in turn be transformed into a dataframe\n",
    "- To create a smaller/more relevant subset of data I only grabbed subreddits that were in the English language and Public (as opposed to private)\n",
    "- This file contained many attributes for each row, I examined all the attributes and decided which ones would be useful and should be taken and included in the final dataframe"
   ]
  },
  {
   "cell_type": "code",
   "execution_count": null,
   "metadata": {},
   "outputs": [],
   "source": [
    "# The reddit master subreddit archive (circa 2020) file can be found here https://files.pushshift.io/reddit/subreddits/\n",
    "reader = zreader.Zreader(\"\") \n",
    "\n",
    "subreddit_dict = {}\n",
    "# Read each line from the reader\n",
    "for line in reader.readlines():\n",
    "    obj = json.loads(line)\n",
    "    if (obj['subreddit_type'] == 'public') and (obj['lang']== 'en'):\n",
    "        subreddit_dict[obj['display_name']] = [obj['title'], obj['description'], obj['subscribers'], obj['created_utc']]"
   ]
  },
  {
   "cell_type": "markdown",
   "metadata": {},
   "source": [
    "- create a dataframe from the dictionary"
   ]
  },
  {
   "cell_type": "code",
   "execution_count": null,
   "metadata": {},
   "outputs": [],
   "source": [
    "subreddit_df = pd.DataFrame(list(subreddit_dict.values()))\n",
    "subreddit_df['temp'] = subreddit_dict.keys()\n",
    "subreddit_df.columns = ['title', 'description', 'subscribers', 'created_utc', 'name']"
   ]
  },
  {
   "cell_type": "markdown",
   "metadata": {},
   "source": [
    "- save to file"
   ]
  },
  {
   "cell_type": "code",
   "execution_count": null,
   "metadata": {},
   "outputs": [],
   "source": [
    "# subreddit_df.to_csv('../Data/master_subreddit_list.csv', index=False)"
   ]
  }
 ],
 "metadata": {
  "kernelspec": {
   "display_name": "Python 3",
   "language": "python",
   "name": "python3"
  },
  "language_info": {
   "codemirror_mode": {
    "name": "ipython",
    "version": 3
   },
   "file_extension": ".py",
   "mimetype": "text/x-python",
   "name": "python",
   "nbconvert_exporter": "python",
   "pygments_lexer": "ipython3",
   "version": "3.8.8"
  }
 },
 "nbformat": 4,
 "nbformat_minor": 2
}
